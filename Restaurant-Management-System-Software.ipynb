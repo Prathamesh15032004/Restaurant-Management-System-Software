{
 "cells": [
  {
   "cell_type": "code",
   "execution_count": 2,
   "id": "1dfcfc3b-2d25-4e6c-a292-2af390521ed2",
   "metadata": {},
   "outputs": [
    {
     "name": "stdout",
     "output_type": "stream",
     "text": [
      "Menu : \n",
      "Black Forest 400\n",
      "Rasmalai 500\n",
      "White Chocolate 350\n",
      "Fresh Fruits 550\n"
     ]
    },
    {
     "name": "stdin",
     "output_type": "stream",
     "text": [
      "Please place your order here :  white chocolate\n"
     ]
    },
    {
     "name": "stdout",
     "output_type": "stream",
     "text": [
      "Preparing your  White Chocolate\n",
      "Your order is ready\n",
      "Please enjoy your  White Chocolate\n"
     ]
    },
    {
     "name": "stdin",
     "output_type": "stream",
     "text": [
      "Do you want to order more : Y - Yes or N - No >  yes\n"
     ]
    },
    {
     "name": "stdout",
     "output_type": "stream",
     "text": [
      "Total Bill :  350\n"
     ]
    },
    {
     "name": "stdin",
     "output_type": "stream",
     "text": [
      "Please pay your bill here:  350\n"
     ]
    },
    {
     "name": "stdout",
     "output_type": "stream",
     "text": [
      "Payment successful !!\n",
      "Thank you for visiting Ribbons & Balloons! \n"
     ]
    }
   ],
   "source": [
    "class RMS():\n",
    "\n",
    "    def __init__(self,restaurant_name,restaurant_menu):\n",
    "        self.total_bill=0\n",
    "        self.paid_bill=0\n",
    "        self.menu=restaurant_menu\n",
    "        self.rest_name=restaurant_name\n",
    "        self.user_order=\"\"\n",
    "        self.ask=\"\"\n",
    "        self.user_bill=0\n",
    "        self.paid_bill=0\n",
    "        self.user_pay=0\n",
    "    \n",
    "    # WELCOME USER\n",
    "    def welcome_user(self):\n",
    "        print(\"Welcome to \",self.rest_name)\n",
    "    \n",
    "    # DISPLAY MENU\n",
    "    def display_menu(self):\n",
    "        print(\"Menu : \")\n",
    "        for i in self.menu:\n",
    "            print(i.title(),self.menu[i])\n",
    "    \n",
    "    # TAKE ORDER\n",
    "    def take_order(self):\n",
    "        self.user_order=input(\"Please place your order here : \")\n",
    "        \n",
    "    # ASK FOR MORE ORDER\n",
    "    def ask_more(self):\n",
    "        self.ask=input(\"Do you want to order more : Y - Yes or N - No > \")\n",
    "    \n",
    "    # MORE ORDER FROM CUSTOMER\n",
    "    def repeat_order(self):\n",
    "        while(self.ask.lower()==\"y\"):\n",
    "            if self.ask.lower()==\"y\":\n",
    "                self.display_menu()\n",
    "                self.take_order()\n",
    "                if self.user_order.lower() in self.menu:\n",
    "                    self.preparing_order()\n",
    "                    self.serve_order()\n",
    "                    self.ask_more()\n",
    "                else:\n",
    "                    print(\"INVALID ORDER\")\n",
    "            else:\n",
    "                break\n",
    "    \n",
    "    # PREPARING ORDER\n",
    "    def preparing_order(self):  \n",
    "        print(\"Preparing your \",self.user_order.title())\n",
    "        self.total_bill+=self.menu[self.user_order.lower()]\n",
    "        import time\n",
    "        time.sleep(3)\n",
    "    \n",
    "    # SERVE ORDER\n",
    "    def serve_order(self):\n",
    "        print(\"Your order is ready\")\n",
    "        print(\"Please enjoy your \",self.user_order.title())\n",
    "    \n",
    "    # DISPLAY BILL\n",
    "    def display_bill(self):\n",
    "        #user_bill=menu[user_order.lower()]\n",
    "        print(\"Total Bill : \",self.total_bill)\n",
    "        \n",
    "    # TAKE BILL\n",
    "    def take_payment(self):    \n",
    "        self.user_pay=int(input(\"Please pay your bill here: \"))\n",
    "    \n",
    "    # VERIFY PAYMENT\n",
    "    def verify_payment(self):\n",
    "        self.user_bill=self.total_bill\n",
    "        if self.user_pay>self.user_bill:\n",
    "            print(\"Payment Successful !!\")\n",
    "            print(\"Here is your change \",self.user_pay-self.user_bill)\n",
    "        elif self.user_bill>self.user_pay:\n",
    "            self.paid_bill=self.user_bill-self.user_pay\n",
    "            print(\"Payment Unsuccessful  \")\n",
    "            print(\"Please pay remaining amt \",self.paid_bill)\n",
    "            while(self.paid_bill!=self.user_bill):\n",
    "                self.take_payment()\n",
    "                self.user_bill-=self.paid_bill\n",
    "                if self.user_pay>self.paid_bill:\n",
    "                    print(\"Payment Successful !!\")\n",
    "                    print(\"Here is your change \",self.user_pay-self.paid_bill)\n",
    "                    break\n",
    "                elif self.paid_bill>self.user_pay:\n",
    "                    self.user_bill=self.paid_bill\n",
    "                    self.paid_bill=self.user_bill-self.user_pay\n",
    "                    print(\"Payment Unsuccessful  \")\n",
    "                    print(\"Please pay remaining amt \",self.paid_bill)\n",
    "                    if self.user_bill==0:\n",
    "                        print(\"Payment successful !!\")\n",
    "                elif self.paid_bill==self.user_pay:\n",
    "                    print(\"Payment succesful\")\n",
    "                    break\n",
    "        else:\n",
    "            print(\"Payment successful !!\")\n",
    "    \n",
    "    # THANK USER\n",
    "    def thank_user(self):\n",
    "        print(f\"Thank you for visiting {self.rest_name}! \")\n",
    "\n",
    "\n",
    "    def order_process(self):\n",
    "        self.display_menu()\n",
    "        self.take_order()\n",
    "        if self.user_order.lower() in self.menu:\n",
    "            self.preparing_order()\n",
    "            self.serve_order()\n",
    "            self.ask_more()\n",
    "            self.repeat_order()\n",
    "            self.display_bill()\n",
    "            self.take_payment()\n",
    "            self.verify_payment()\n",
    "            self.thank_user()\n",
    "        else:\n",
    "            print(self.user_order.title(),\" not in menu \")\n",
    "            self.order_process()\n",
    "\n",
    "if __name__=='__main__':\n",
    "    rn='Ribbons & Balloons'\n",
    "    rm={'black forest':400,'rasmalai':500,'white chocolate':350,'fresh fruits':550}\n",
    "\n",
    "    rnb=RMS(rn,rm)\n",
    "\n",
    "    import tkinter as tk\n",
    "    window=tk.Tk()\n",
    "    window.title('RMS')\n",
    "    window.geometry('300x300')\n",
    "    #tk.Label(window,text=rnb.rest_name,font=('Helvetica',16)).place(relx=0.5,rely=0.5,anchor=tk.CENTER)\n",
    "    tk.Label(window,text=rn,font=('Helvetica',16)).place(relx=0.5,rely=0.2,anchor=tk.CENTER)\n",
    "    tk.Button(window,text=\"START ORDER\",width=18,command=rnb.order_process).place(x=80,y=100)\n",
    "    window.mainloop()\n",
    "\n",
    "\n",
    "# In[ ]:"
   ]
  },
  {
   "cell_type": "code",
   "execution_count": null,
   "id": "04ef8c6f-c97f-4750-b21b-aafae94b7aad",
   "metadata": {},
   "outputs": [],
   "source": []
  }
 ],
 "metadata": {
  "kernelspec": {
   "display_name": "Python 3 (ipykernel)",
   "language": "python",
   "name": "python3"
  },
  "language_info": {
   "codemirror_mode": {
    "name": "ipython",
    "version": 3
   },
   "file_extension": ".py",
   "mimetype": "text/x-python",
   "name": "python",
   "nbconvert_exporter": "python",
   "pygments_lexer": "ipython3",
   "version": "3.12.4"
  }
 },
 "nbformat": 4,
 "nbformat_minor": 5
}
